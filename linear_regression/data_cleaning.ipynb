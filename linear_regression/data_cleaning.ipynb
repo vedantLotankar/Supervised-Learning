{
 "cells": [
  {
   "cell_type": "code",
   "execution_count": 2,
   "metadata": {},
   "outputs": [],
   "source": [
    "from sklearn.model_selection import train_test_split"
   ]
  },
  {
   "cell_type": "code",
   "execution_count": 3,
   "metadata": {},
   "outputs": [],
   "source": [
    "import pandas as pd"
   ]
  },
  {
   "cell_type": "code",
   "execution_count": 4,
   "metadata": {},
   "outputs": [],
   "source": [
    "df = pd.read_csv(\"Mumbai1.csv\")"
   ]
  },
  {
   "cell_type": "code",
   "execution_count": 5,
   "metadata": {},
   "outputs": [
    {
     "name": "stdout",
     "output_type": "stream",
     "text": [
      "   Unnamed: 0    Price  Area  Location  No. of Bedrooms  New/Resale  \\\n",
      "0           0  4850000   720  Kharghar                1           0   \n",
      "1           1  4500000   600  Kharghar                1           0   \n",
      "2           2  6700000   650  Kharghar                1           0   \n",
      "3           3  4500000   650  Kharghar                1           0   \n",
      "4           4  5000000   665  Kharghar                1           0   \n",
      "\n",
      "   Gymnasium  Lift Available  Car Parking  Maintenance Staff  24x7 Security  \\\n",
      "0          0               1            1                  1              1   \n",
      "1          1               1            1                  1              1   \n",
      "2          1               1            1                  1              1   \n",
      "3          0               1            1                  1              1   \n",
      "4          0               1            1                  1              1   \n",
      "\n",
      "   Children's Play Area  Clubhouse  Intercom  Landscaped Gardens  \\\n",
      "0                     0          0         0                   0   \n",
      "1                     0          1         0                   0   \n",
      "2                     1          1         1                   0   \n",
      "3                     0          0         1                   1   \n",
      "4                     0          0         1                   1   \n",
      "\n",
      "   Indoor Games  Gas Connection  Jogging Track  Swimming Pool  \n",
      "0             0               0              0              0  \n",
      "1             0               0              1              1  \n",
      "2             0               0              1              1  \n",
      "3             0               0              0              0  \n",
      "4             0               0              0              0  \n"
     ]
    }
   ],
   "source": [
    "print(df.head())"
   ]
  },
  {
   "cell_type": "code",
   "execution_count": 8,
   "metadata": {},
   "outputs": [],
   "source": [
    "df.drop(df.columns[0], axis=1, inplace=True)"
   ]
  },
  {
   "cell_type": "code",
   "execution_count": 7,
   "metadata": {},
   "outputs": [
    {
     "name": "stdout",
     "output_type": "stream",
     "text": [
      "     Price  Area  Location  No. of Bedrooms  New/Resale  Gymnasium  \\\n",
      "0  4850000   720  Kharghar                1           0          0   \n",
      "1  4500000   600  Kharghar                1           0          1   \n",
      "2  6700000   650  Kharghar                1           0          1   \n",
      "3  4500000   650  Kharghar                1           0          0   \n",
      "4  5000000   665  Kharghar                1           0          0   \n",
      "\n",
      "   Lift Available  Car Parking  Maintenance Staff  24x7 Security  \\\n",
      "0               1            1                  1              1   \n",
      "1               1            1                  1              1   \n",
      "2               1            1                  1              1   \n",
      "3               1            1                  1              1   \n",
      "4               1            1                  1              1   \n",
      "\n",
      "   Children's Play Area  Clubhouse  Intercom  Landscaped Gardens  \\\n",
      "0                     0          0         0                   0   \n",
      "1                     0          1         0                   0   \n",
      "2                     1          1         1                   0   \n",
      "3                     0          0         1                   1   \n",
      "4                     0          0         1                   1   \n",
      "\n",
      "   Indoor Games  Gas Connection  Jogging Track  Swimming Pool  \n",
      "0             0               0              0              0  \n",
      "1             0               0              1              1  \n",
      "2             0               0              1              1  \n",
      "3             0               0              0              0  \n",
      "4             0               0              0              0  \n"
     ]
    }
   ],
   "source": [
    "print(df.head())"
   ]
  },
  {
   "cell_type": "code",
   "execution_count": 9,
   "metadata": {},
   "outputs": [],
   "source": [
    "# Apply One-Hot Encoding using pd.get_dummies() on the 'Place' column\n",
    "df_encoded = pd.get_dummies(df, columns=['Location'], drop_first=True)\n",
    "df_encoded = df_encoded.astype(int)"
   ]
  },
  {
   "cell_type": "code",
   "execution_count": 11,
   "metadata": {},
   "outputs": [
    {
     "name": "stdout",
     "output_type": "stream",
     "text": [
      "      Area  No. of Bedrooms  New/Resale  Gymnasium  Lift Available  \\\n",
      "0      720                1           0          0               1   \n",
      "1      600                1           0          1               1   \n",
      "2      650                1           0          1               1   \n",
      "3      650                1           0          0               1   \n",
      "4      665                1           0          0               1   \n",
      "...    ...              ...         ...        ...             ...   \n",
      "6342   700                1           1          0               0   \n",
      "6343   900                2           0          0               0   \n",
      "6344   900                2           0          0               1   \n",
      "6345  1380                3           0          0               0   \n",
      "6346   700                1           1          1               1   \n",
      "\n",
      "      Car Parking  Maintenance Staff  24x7 Security  Children's Play Area  \\\n",
      "0               1                  1              1                     0   \n",
      "1               1                  1              1                     0   \n",
      "2               1                  1              1                     1   \n",
      "3               1                  1              1                     0   \n",
      "4               1                  1              1                     0   \n",
      "...           ...                ...            ...                   ...   \n",
      "6342            0                  0              0                     0   \n",
      "6343            0                  0              0                     0   \n",
      "6344            0                  0              0                     0   \n",
      "6345            0                  0              0                     0   \n",
      "6346            1                  0              1                     1   \n",
      "\n",
      "      Clubhouse  ...  Location_royal palms goregaon east  Location_sec 50 new  \\\n",
      "0             0  ...                                   0                    0   \n",
      "1             1  ...                                   0                    0   \n",
      "2             1  ...                                   0                    0   \n",
      "3             0  ...                                   0                    0   \n",
      "4             0  ...                                   0                    0   \n",
      "...         ...  ...                                 ...                  ...   \n",
      "6342          0  ...                                   0                    0   \n",
      "6343          0  ...                                   0                    0   \n",
      "6344          0  ...                                   0                    0   \n",
      "6345          0  ...                                   0                    0   \n",
      "6346          1  ...                                   0                    0   \n",
      "\n",
      "      Location_taloja panchanand  Location_thakur village kandivali east  \\\n",
      "0                              0                                       0   \n",
      "1                              0                                       0   \n",
      "2                              0                                       0   \n",
      "3                              0                                       0   \n",
      "4                              0                                       0   \n",
      "...                          ...                                     ...   \n",
      "6342                           0                                       0   \n",
      "6343                           0                                       0   \n",
      "6344                           0                                       0   \n",
      "6345                           0                                       0   \n",
      "6346                           0                                       0   \n",
      "\n",
      "      Location_ulhasnagar 4  Location_vasant vihar thane west  \\\n",
      "0                         0                                 0   \n",
      "1                         0                                 0   \n",
      "2                         0                                 0   \n",
      "3                         0                                 0   \n",
      "4                         0                                 0   \n",
      "...                     ...                               ...   \n",
      "6342                      0                                 0   \n",
      "6343                      0                                 0   \n",
      "6344                      0                                 0   \n",
      "6345                      0                                 0   \n",
      "6346                      0                                 0   \n",
      "\n",
      "      Location_vile parle west  Location_vrindavan society  \\\n",
      "0                            0                           0   \n",
      "1                            0                           0   \n",
      "2                            0                           0   \n",
      "3                            0                           0   \n",
      "4                            0                           0   \n",
      "...                        ...                         ...   \n",
      "6342                         0                           0   \n",
      "6343                         0                           0   \n",
      "6344                         0                           0   \n",
      "6345                         0                           0   \n",
      "6346                         0                           0   \n",
      "\n",
      "      Location_worli sea Fase  Location_worli sea face   \n",
      "0                           0                         0  \n",
      "1                           0                         0  \n",
      "2                           0                         0  \n",
      "3                           0                         0  \n",
      "4                           0                         0  \n",
      "...                       ...                       ...  \n",
      "6342                        0                         0  \n",
      "6343                        0                         0  \n",
      "6344                        0                         0  \n",
      "6345                        0                         0  \n",
      "6346                        0                         0  \n",
      "\n",
      "[6347 rows x 428 columns]\n"
     ]
    }
   ],
   "source": [
    "print(df_encoded)"
   ]
  },
  {
   "cell_type": "code",
   "execution_count": null,
   "metadata": {},
   "outputs": [],
   "source": [
    "# Assuming 'Price' is the target variable and the rest are features\n",
    "X = df_encoded.drop('Price', axis=1)  # Features (independent variables)\n",
    "y = df_encoded['Price']  # Target variable (dependent)"
   ]
  }
 ],
 "metadata": {
  "kernelspec": {
   "display_name": "Python 3",
   "language": "python",
   "name": "python3"
  },
  "language_info": {
   "codemirror_mode": {
    "name": "ipython",
    "version": 3
   },
   "file_extension": ".py",
   "mimetype": "text/x-python",
   "name": "python",
   "nbconvert_exporter": "python",
   "pygments_lexer": "ipython3",
   "version": "3.12.8"
  }
 },
 "nbformat": 4,
 "nbformat_minor": 2
}
